{
  "cells": [
    {
      "cell_type": "markdown",
      "metadata": {
        "id": "view-in-github",
        "colab_type": "text"
      },
      "source": [
        "<a href=\"https://colab.research.google.com/github/devams23/Apriori_ARL/blob/main/Copy_of_apriori.ipynb\" target=\"_parent\"><img src=\"https://colab.research.google.com/assets/colab-badge.svg\" alt=\"Open In Colab\"/></a>"
      ]
    },
    {
      "cell_type": "markdown",
      "metadata": {
        "id": "1fziHl7Ar94J"
      },
      "source": [
        "# Apriori"
      ]
    },
    {
      "cell_type": "code",
      "execution_count": 8,
      "metadata": {
        "colab": {
          "base_uri": "https://localhost:8080/"
        },
        "id": "io54ql4BrPLs",
        "outputId": "ad06de37-8e50-4c6f-ca76-4e8c57ffeaa5"
      },
      "outputs": [
        {
          "output_type": "stream",
          "name": "stdout",
          "text": [
            "Requirement already satisfied: apyori in /usr/local/lib/python3.10/dist-packages (1.1.2)\n"
          ]
        }
      ],
      "source": [
        "pip install apyori"
      ]
    },
    {
      "cell_type": "markdown",
      "metadata": {
        "id": "eiNwni1xsEgT"
      },
      "source": [
        "## Importing the libraries"
      ]
    },
    {
      "cell_type": "code",
      "execution_count": 6,
      "metadata": {
        "id": "UJfitBClsJlT"
      },
      "outputs": [],
      "source": [
        "import numpy\n",
        "import matplotlib.pyplot as plt\n",
        "import pandas as pd"
      ]
    },
    {
      "cell_type": "markdown",
      "metadata": {
        "id": "COYTmvPuB2rU"
      },
      "source": []
    },
    {
      "cell_type": "markdown",
      "metadata": {
        "id": "vLt-7XUKsXBd"
      },
      "source": [
        "## Data Preprocessing"
      ]
    },
    {
      "cell_type": "code",
      "execution_count": 7,
      "metadata": {
        "id": "Wv2z_lBucz84"
      },
      "outputs": [],
      "source": [
        "dataset = pd.read_csv('Market_Basket_Optimisation.csv', header = None)\n",
        "transactions = []\n",
        "for i in range(0, 7501):\n",
        "  transactions.append([str(dataset.values[i,j]) for j in range(0, 20)])\n"
      ]
    },
    {
      "cell_type": "markdown",
      "metadata": {
        "id": "1wYZdBd5sea_"
      },
      "source": [
        "#Training the Apriori model on the dataset"
      ]
    },
    {
      "cell_type": "code",
      "execution_count": null,
      "metadata": {
        "id": "ipA6OwRMcARE"
      },
      "outputs": [],
      "source": [
        "from  apyori import apriori\n",
        "rules = apriori(transactions = transactions, min_support = 0.003, min_confidence = 0.2, min_lift = 3, min_length = 2, max_length = 2)"
      ]
    },
    {
      "cell_type": "markdown",
      "metadata": {
        "id": "b176YNwWspiO"
      },
      "source": [
        "## Visualising the results"
      ]
    },
    {
      "cell_type": "markdown",
      "metadata": {
        "id": "iO6bF_dImT-E"
      },
      "source": [
        "### Displaying the first results coming directly from the output of the apriori function"
      ]
    },
    {
      "cell_type": "code",
      "execution_count": null,
      "metadata": {
        "id": "rOB1Yg82pruy"
      },
      "outputs": [],
      "source": [
        "results = list(rules)\n",
        "print(results)"
      ]
    },
    {
      "cell_type": "markdown",
      "metadata": {
        "id": "MFkQP-fcjDBC"
      },
      "source": [
        "### Putting the results well organised into a Pandas DataFrame"
      ]
    },
    {
      "cell_type": "code",
      "execution_count": null,
      "metadata": {
        "id": "0Ap2-KabtzQi"
      },
      "outputs": [],
      "source": [
        "def inspect(results):\n",
        "    lhs         = [tuple(result[2][0][0])[0] for result in results]\n",
        "    rhs         = [tuple(result[2][0][1])[0] for result in results]\n",
        "    supports    = [result[1] for result in results]\n",
        "    confidences = [result[2][0][2] for result in results]\n",
        "    lifts       = [result[2][0][3] for result in results]\n",
        "    return list(zip(lhs, rhs, supports, confidences, lifts))\n",
        "resultsinDataFrame = pd.DataFrame(inspect(results), columns = ['Left Hand Side', 'Right Hand Side', 'Support', 'Confidence', 'Lift'])"
      ]
    },
    {
      "cell_type": "markdown",
      "metadata": {
        "id": "IjrrlYW4jpTR"
      },
      "source": [
        "### Displaying the results sorted by descending lifts"
      ]
    },
    {
      "cell_type": "code",
      "execution_count": null,
      "metadata": {
        "id": "FNk7SItdt2Nz"
      },
      "outputs": [],
      "source": [
        "resultsinDataFrame.sort_values(by=['Lift'] , ascending=False)"
      ]
    },
    {
      "cell_type": "code",
      "execution_count": null,
      "metadata": {
        "id": "wnxiQKiot4rB"
      },
      "outputs": [],
      "source": []
    }
  ],
  "metadata": {
    "colab": {
      "provenance": [],
      "include_colab_link": true
    },
    "kernelspec": {
      "display_name": "Python 3",
      "name": "python3"
    }
  },
  "nbformat": 4,
  "nbformat_minor": 0
}